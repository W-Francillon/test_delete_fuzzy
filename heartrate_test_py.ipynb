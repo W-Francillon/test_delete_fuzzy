{
  "nbformat": 4,
  "nbformat_minor": 0,
  "metadata": {
    "colab": {
      "provenance": [],
      "authorship_tag": "ABX9TyN0DafpXBwvRe5udlbwqkL3",
      "include_colab_link": true
    },
    "kernelspec": {
      "name": "python3",
      "display_name": "Python 3"
    },
    "language_info": {
      "name": "python"
    }
  },
  "cells": [
    {
      "cell_type": "markdown",
      "metadata": {
        "id": "view-in-github",
        "colab_type": "text"
      },
      "source": [
        "<a href=\"https://colab.research.google.com/github/W-Francillon/test_delete_fuzzy/blob/main/heartrate_test_py.ipynb\" target=\"_parent\"><img src=\"https://colab.research.google.com/assets/colab-badge.svg\" alt=\"Open In Colab\"/></a>"
      ]
    },
    {
      "cell_type": "code",
      "execution_count": 1,
      "metadata": {
        "id": "rSEXpHk_CRDX"
      },
      "outputs": [],
      "source": [
        "heartrate =[80,110, 70, 75, 120, 130,138, 100]"
      ]
    },
    {
      "cell_type": "code",
      "source": [
        "heartrate"
      ],
      "metadata": {
        "colab": {
          "base_uri": "https://localhost:8080/"
        },
        "id": "ckCcy-hSCgpP",
        "outputId": "b4030a0e-9ab9-4eb4-d257-6652031c9ba8"
      },
      "execution_count": 2,
      "outputs": [
        {
          "output_type": "execute_result",
          "data": {
            "text/plain": [
              "[80, 110, 70, 75, 120, 130, 138, 100]"
            ]
          },
          "metadata": {},
          "execution_count": 2
        }
      ]
    },
    {
      "cell_type": "code",
      "source": [
        "# prompt: using a for loop, divide a list by 0.5\n",
        "\n",
        "new_heartrate = []\n",
        "for i in heartrate:\n",
        "  new_heartrate.append(i * 0.5)\n",
        "new_heartrate\n"
      ],
      "metadata": {
        "colab": {
          "base_uri": "https://localhost:8080/"
        },
        "id": "2Fx9zeoFCiSr",
        "outputId": "0d809b45-9344-4ca9-f69f-f24bdc7d0fab"
      },
      "execution_count": 3,
      "outputs": [
        {
          "output_type": "execute_result",
          "data": {
            "text/plain": [
              "[40.0, 55.0, 35.0, 37.5, 60.0, 65.0, 69.0, 50.0]"
            ]
          },
          "metadata": {},
          "execution_count": 3
        }
      ]
    },
    {
      "cell_type": "code",
      "source": [],
      "metadata": {
        "id": "V5VSCGfTD-9h"
      },
      "execution_count": 3,
      "outputs": []
    }
  ]
}